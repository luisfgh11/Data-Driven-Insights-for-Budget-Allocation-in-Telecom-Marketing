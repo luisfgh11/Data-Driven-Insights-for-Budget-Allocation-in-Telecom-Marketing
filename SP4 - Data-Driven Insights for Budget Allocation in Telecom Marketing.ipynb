{
 "cells": [
  {
   "cell_type": "markdown",
   "metadata": {
    "id": "3rYiDeEH0q0f"
   },
   "source": [
    "# What is the best rate?"
   ]
  },
  {
   "cell_type": "markdown",
   "metadata": {},
   "source": [
    "# Introduction\n",
    "\n",
    "You work as a Data analyst for the telecommunications operator Megaline. The company offers its customers two prepaid tariffs, Surf and Ultimate. The sales department wants to know which of the tariffs generates the most revenue in order to adjust the advertising budget.\n",
    "\n",
    "You will carry out a preliminary analysis of the tariffs based on a relatively small selection of customers. You will have the data of 500 Megaline customers: who the customers are, where they are from, which tariff they use, as well as the number of calls they made and text messages they sent in 2018. Your job is to analyse the behaviour of the customers and determine which prepaid tariff generates the most revenue.\n",
    "\n",
    "## Objective\n",
    "Project carried out with the main objective of developing the best strategy in budget allocation for advertising campaigns.\n",
    "\n",
    "The sample of customers provided will be prepared and the necessary statistical tests will be applied to it in order to obtain valuable knowledge for our purposes by analysing the data."
   ]
  },
  {
   "cell_type": "markdown",
   "metadata": {
    "id": "MQi4IPy70q0y"
   },
   "source": [
    "## Initialization"
   ]
  },
  {
   "cell_type": "code",
   "execution_count": 1,
   "metadata": {
    "id": "MtYIuBxu0q0z"
   },
   "outputs": [],
   "source": [
    "# Load all libraries\n",
    "import pandas as pd #Pandas library for dataset creation and manipulation\n",
    "import numpy as np #Numpy library for scientific computing functions\n",
    "import seaborn as sns #Seaborn library for box-and-whisker plot visualization\n",
    "from matplotlib import pyplot as plt #Pyplot for graph visualization\n",
    "from math import factorial #Factorial for factorial calculation\n",
    "from scipy import stats as st #Scipy for statistical functions"
   ]
  },
  {
   "cell_type": "markdown",
   "metadata": {
    "id": "4ysWWC5i0q00"
   },
   "source": [
    "## Load data"
   ]
  },
  {
   "cell_type": "code",
   "execution_count": 2,
   "metadata": {
    "id": "CCqPW7rS0q01"
   },
   "outputs": [],
   "source": [
    "# Load the data files into different DataFrames\n",
    "df_users = pd.read_csv('megaline_users.csv')\n",
    "df_calls = pd.read_csv('megaline_calls.csv')\n",
    "df_messages = pd.read_csv('megaline_messages.csv')\n",
    "df_internet = pd.read_csv('megaline_internet.csv')\n",
    "df_plans = pd.read_csv('megaline_plans.csv')"
   ]
  },
  {
   "cell_type": "markdown",
   "metadata": {
    "id": "69qqoJ3r0q01"
   },
   "source": [
    "# Data preparation"
   ]
  },
  {
   "cell_type": "markdown",
   "metadata": {
    "id": "ohBhimvH0q01"
   },
   "source": [
    "## Rates"
   ]
  },
  {
   "cell_type": "code",
   "execution_count": 3,
   "metadata": {
    "id": "GptqP3Q40q02"
   },
   "outputs": [
    {
     "name": "stdout",
     "output_type": "stream",
     "text": [
      "<class 'pandas.core.frame.DataFrame'>\n",
      "RangeIndex: 2 entries, 0 to 1\n",
      "Data columns (total 8 columns):\n",
      " #   Column                 Non-Null Count  Dtype  \n",
      "---  ------                 --------------  -----  \n",
      " 0   messages_included      2 non-null      int64  \n",
      " 1   mb_per_month_included  2 non-null      int64  \n",
      " 2   minutes_included       2 non-null      int64  \n",
      " 3   usd_monthly_pay        2 non-null      int64  \n",
      " 4   usd_per_gb             2 non-null      int64  \n",
      " 5   usd_per_message        2 non-null      float64\n",
      " 6   usd_per_minute         2 non-null      float64\n",
      " 7   plan_name              2 non-null      object \n",
      "dtypes: float64(2), int64(5), object(1)\n",
      "memory usage: 260.0+ bytes\n"
     ]
    }
   ],
   "source": [
    "# Print general/summary information about the rates DataFrame\n",
    "df_plans.info()"
   ]
  },
  {
   "cell_type": "code",
   "execution_count": 4,
   "metadata": {
    "id": "64xzjwL70q02"
   },
   "outputs": [
    {
     "name": "stdout",
     "output_type": "stream",
     "text": [
      "   messages_included  mb_per_month_included  minutes_included  \\\n",
      "1               1000                  30720              3000   \n",
      "0                 50                  15360               500   \n",
      "\n",
      "   usd_monthly_pay  usd_per_gb  usd_per_message  usd_per_minute plan_name  \n",
      "1               70           7             0.01            0.01  ultimate  \n",
      "0               20          10             0.03            0.03      surf  \n"
     ]
    }
   ],
   "source": [
    "# Print a sample of the data for the rates\n",
    "print(df_plans.sample(2))"
   ]
  },
  {
   "cell_type": "markdown",
   "metadata": {
    "id": "mEc_3_hs0q02"
   },
   "source": [
    "The variable name \"usd_monthly_pay\" will be changed to \"usd_monthly_fee\" to match the one provided in the data dictionary\n",
    "\n",
    "Also, the mb_per_month_included column will be changed to show GB instead of MB"
   ]
  },
  {
   "cell_type": "code",
   "execution_count": 5,
   "metadata": {
    "id": "Y7SVmjGn0q03"
   },
   "outputs": [
    {
     "name": "stdout",
     "output_type": "stream",
     "text": [
      "   messages_included  gb_per_month_included  minutes_included  \\\n",
      "0                 50                   15.0               500   \n",
      "1               1000                   30.0              3000   \n",
      "\n",
      "   usd_monthly_fee  usd_per_gb  usd_per_message  usd_per_minute plan_name  \n",
      "0               20          10             0.03            0.03      surf  \n",
      "1               70           7             0.01            0.01  ultimate  \n"
     ]
    }
   ],
   "source": [
    "#Transforming the column from Mb to Gb\n",
    "df_plans['mb_per_month_included'] = df_plans['mb_per_month_included'] / 1024\n",
    "\n",
    "#Renaming the column\n",
    "new_names = {\n",
    "  'usd_monthly_pay' : 'usd_monthly_fee',\n",
    "  'mb_per_month_included' : 'gb_per_month_included'\n",
    "}\n",
    "\n",
    "df_plans.rename(columns = new_names, inplace = True)\n",
    "\n",
    "print(df_plans.head())"
   ]
  },
  {
   "cell_type": "markdown",
   "metadata": {
    "id": "1n2X6WXf0q04"
   },
   "source": [
    "## Users"
   ]
  },
  {
   "cell_type": "code",
   "execution_count": 6,
   "metadata": {
    "id": "2NgjWFqx0q05"
   },
   "outputs": [
    {
     "name": "stdout",
     "output_type": "stream",
     "text": [
      "<class 'pandas.core.frame.DataFrame'>\n",
      "RangeIndex: 500 entries, 0 to 499\n",
      "Data columns (total 8 columns):\n",
      " #   Column      Non-Null Count  Dtype \n",
      "---  ------      --------------  ----- \n",
      " 0   user_id     500 non-null    int64 \n",
      " 1   first_name  500 non-null    object\n",
      " 2   last_name   500 non-null    object\n",
      " 3   age         500 non-null    int64 \n",
      " 4   city        500 non-null    object\n",
      " 5   reg_date    500 non-null    object\n",
      " 6   plan        500 non-null    object\n",
      " 7   churn_date  34 non-null     object\n",
      "dtypes: int64(2), object(6)\n",
      "memory usage: 31.4+ KB\n"
     ]
    }
   ],
   "source": [
    "# Print general/summary information about the users DataFrame\n",
    "df_users.info()"
   ]
  },
  {
   "cell_type": "code",
   "execution_count": 7,
   "metadata": {
    "id": "1IN1L9uh0q05"
   },
   "outputs": [
    {
     "name": "stdout",
     "output_type": "stream",
     "text": [
      "     user_id first_name last_name  age  \\\n",
      "34      1034         Jc    Gentry   22   \n",
      "187     1187     Tanner   Goodman   49   \n",
      "12      1012    Jonelle   Mcbride   59   \n",
      "346     1346      Emmie  Gonzalez   59   \n",
      "176     1176   Terrance   Shaffer   75   \n",
      "\n",
      "                                          city    reg_date      plan  \\\n",
      "34   New York-Newark-Jersey City, NY-NJ-PA MSA  2018-08-13      surf   \n",
      "187       Austin-Round Rock-Georgetown, TX MSA  2018-02-20      surf   \n",
      "12      Chicago-Naperville-Elgin, IL-IN-WI MSA  2018-06-28      surf   \n",
      "346                             Tucson, AZ MSA  2018-04-26  ultimate   \n",
      "176  New York-Newark-Jersey City, NY-NJ-PA MSA  2018-10-03      surf   \n",
      "\n",
      "     churn_date  \n",
      "34          NaN  \n",
      "187         NaN  \n",
      "12   2018-11-16  \n",
      "346         NaN  \n",
      "176         NaN  \n",
      "\n",
      "Duplicate values:  0\n"
     ]
    }
   ],
   "source": [
    "# Print a sample of data for users\n",
    "print(df_users.sample(5))\n",
    "\n",
    "#Checking for duplicate values\n",
    "print()\n",
    "print('Duplicate values: ', df_users.duplicated().sum())"
   ]
  },
  {
   "cell_type": "markdown",
   "metadata": {
    "id": "dCZoUq4f0q06"
   },
   "source": [
    "The data types of the following variables will be changed: </n>\n",
    "- user_id: Currently int, it will be changed to object, it is not a variable with which we are going to do calculations.\n",
    "- reg_date and churn_date: Currently object, they will be changed to datetime data type with the appropriate format. </n>\n",
    "\n",
    "There are no duplicate values.\n",
    "\n",
    "There are missing values in the churn_date column, but we can keep them as NaN."
   ]
  },
  {
   "cell_type": "code",
   "execution_count": 8,
   "metadata": {
    "id": "yUqX-K0C0q07"
   },
   "outputs": [
    {
     "name": "stdout",
     "output_type": "stream",
     "text": [
      "<class 'pandas.core.frame.DataFrame'>\n",
      "RangeIndex: 500 entries, 0 to 499\n",
      "Data columns (total 8 columns):\n",
      " #   Column      Non-Null Count  Dtype         \n",
      "---  ------      --------------  -----         \n",
      " 0   user_id     500 non-null    object        \n",
      " 1   first_name  500 non-null    object        \n",
      " 2   last_name   500 non-null    object        \n",
      " 3   age         500 non-null    int64         \n",
      " 4   city        500 non-null    object        \n",
      " 5   reg_date    500 non-null    datetime64[ns]\n",
      " 6   plan        500 non-null    object        \n",
      " 7   churn_date  34 non-null     datetime64[ns]\n",
      "dtypes: datetime64[ns](2), int64(1), object(5)\n",
      "memory usage: 31.4+ KB\n"
     ]
    }
   ],
   "source": [
    "#Convert user_id to object data type\n",
    "df_users['user_id'] = df_users['user_id'].astype('object')\n",
    "\n",
    "#Convert reg_date and churn_date to datetime data type\n",
    "df_users['reg_date'] = pd.to_datetime(df_users['reg_date'], format='%Y-%m-%d')\n",
    "df_users['churn_date'] = pd.to_datetime(df_users['churn_date'], format='%Y-%m-%d')\n",
    "\n",
    "#Validating conversion\n",
    "df_users.info()"
   ]
  },
  {
   "cell_type": "markdown",
   "metadata": {
    "id": "o7MeKCid0q08"
   },
   "source": [
    "## Calls"
   ]
  },
  {
   "cell_type": "code",
   "execution_count": 9,
   "metadata": {
    "id": "6dDlnoDm0q08"
   },
   "outputs": [
    {
     "name": "stdout",
     "output_type": "stream",
     "text": [
      "<class 'pandas.core.frame.DataFrame'>\n",
      "RangeIndex: 137735 entries, 0 to 137734\n",
      "Data columns (total 4 columns):\n",
      " #   Column     Non-Null Count   Dtype  \n",
      "---  ------     --------------   -----  \n",
      " 0   id         137735 non-null  object \n",
      " 1   user_id    137735 non-null  int64  \n",
      " 2   call_date  137735 non-null  object \n",
      " 3   duration   137735 non-null  float64\n",
      "dtypes: float64(1), int64(1), object(2)\n",
      "memory usage: 4.2+ MB\n"
     ]
    }
   ],
   "source": [
    "# Print general/summary information about the DataFrame calls\n",
    "df_calls.info()"
   ]
  },
  {
   "cell_type": "code",
   "execution_count": 10,
   "metadata": {
    "id": "kuh1vlNB0q09"
   },
   "outputs": [
    {
     "name": "stdout",
     "output_type": "stream",
     "text": [
      "             id  user_id   call_date  duration\n",
      "82122   1296_10     1296  2018-12-13      9.06\n",
      "46639   1170_72     1170  2018-10-18      0.00\n",
      "79874    1286_0     1286  2018-12-24      2.97\n",
      "106990  1380_14     1380  2018-11-03      4.81\n",
      "937     1005_28     1005  2018-12-26      0.00\n",
      "\n",
      "Duplicate values:  0\n"
     ]
    }
   ],
   "source": [
    "# Print a sample of data for the calls\n",
    "print(df_calls.sample(5))\n",
    "#Checking for duplicate values\n",
    "print()\n",
    "print('Duplicate values: ', df_calls.duplicated().sum())"
   ]
  },
  {
   "cell_type": "markdown",
   "metadata": {
    "id": "DOAxYJSx0q09"
   },
   "source": [
    "The data types of the following variables will be changed:\n",
    "- user_id: Currently int, it will be changed to object, it is not a variable with which we are going to do calculations.\n",
    "- call_date: Currently object, they will be changed to datetime data type with the appropriate format.\n",
    "\n",
    "There are no duplicate values\n",
    "\n",
    "Since the duration of calls is counted by minute, rounding the seconds up, a column will be added with the duration of the calls converted to integer with the seconds rounded."
   ]
  },
  {
   "cell_type": "code",
   "execution_count": 11,
   "metadata": {
    "id": "S2r8xA4f0q0-"
   },
   "outputs": [
    {
     "name": "stdout",
     "output_type": "stream",
     "text": [
      "<class 'pandas.core.frame.DataFrame'>\n",
      "RangeIndex: 137735 entries, 0 to 137734\n",
      "Data columns (total 4 columns):\n",
      " #   Column     Non-Null Count   Dtype         \n",
      "---  ------     --------------   -----         \n",
      " 0   id         137735 non-null  object        \n",
      " 1   user_id    137735 non-null  object        \n",
      " 2   call_date  137735 non-null  datetime64[ns]\n",
      " 3   duration   137735 non-null  float64       \n",
      "dtypes: datetime64[ns](1), float64(1), object(2)\n",
      "memory usage: 4.2+ MB\n"
     ]
    }
   ],
   "source": [
    "#Convert user_id to object data type\n",
    "df_calls['user_id'] = df_calls['user_id'].astype('object')\n",
    "\n",
    "#Convert call_date to datetime data type\n",
    "df_calls['call_date'] = pd.to_datetime(df_calls['call_date'], format='%Y-%m-%d')\n",
    "\n",
    "#Validating conversion\n",
    "df_calls.info()"
   ]
  },
  {
   "cell_type": "markdown",
   "metadata": {
    "id": "mOUZSi180q0_"
   },
   "source": [
    "## Messages"
   ]
  },
  {
   "cell_type": "code",
   "execution_count": 12,
   "metadata": {
    "id": "R-bYJpdV0q1A"
   },
   "outputs": [
    {
     "name": "stdout",
     "output_type": "stream",
     "text": [
      "<class 'pandas.core.frame.DataFrame'>\n",
      "RangeIndex: 76051 entries, 0 to 76050\n",
      "Data columns (total 3 columns):\n",
      " #   Column        Non-Null Count  Dtype \n",
      "---  ------        --------------  ----- \n",
      " 0   id            76051 non-null  object\n",
      " 1   user_id       76051 non-null  int64 \n",
      " 2   message_date  76051 non-null  object\n",
      "dtypes: int64(1), object(2)\n",
      "memory usage: 1.7+ MB\n"
     ]
    }
   ],
   "source": [
    "# Print general/summary information about the messages DataFrame\n",
    "df_messages.info()"
   ]
  },
  {
   "cell_type": "code",
   "execution_count": 13,
   "metadata": {
    "id": "mCEl2iGE0q1A"
   },
   "outputs": [
    {
     "name": "stdout",
     "output_type": "stream",
     "text": [
      "             id  user_id message_date\n",
      "49471  1328_429     1328   2018-12-27\n",
      "24500  1145_355     1145   2018-08-08\n",
      "53248  1339_382     1339   2018-06-11\n",
      "45060  1302_165     1302   2018-10-18\n",
      "12104  1080_107     1080   2018-10-25\n",
      "\n",
      "Duplicate values:  0\n"
     ]
    }
   ],
   "source": [
    "# Print a sample of data for messages\n",
    "print(df_messages.sample(5))\n",
    "#Checking for duplicate values\n",
    "print()\n",
    "print('Duplicate values: ', df_messages.duplicated().sum())"
   ]
  },
  {
   "cell_type": "markdown",
   "metadata": {
    "id": "04xDj7KH0q1A"
   },
   "source": [
    "The data types of the following variables will be changed: </n>\n",
    "- user_id: Currently int, it will be changed to object, it is not a variable with which we are going to do calculations.\n",
    "- message_date: Currently object, they will be changed to datetime data type with the appropriate format.\n",
    "\n",
    "There are no duplicate values"
   ]
  },
  {
   "cell_type": "code",
   "execution_count": 14,
   "metadata": {
    "id": "vsllvkoa0q1B"
   },
   "outputs": [
    {
     "name": "stdout",
     "output_type": "stream",
     "text": [
      "<class 'pandas.core.frame.DataFrame'>\n",
      "RangeIndex: 76051 entries, 0 to 76050\n",
      "Data columns (total 3 columns):\n",
      " #   Column        Non-Null Count  Dtype         \n",
      "---  ------        --------------  -----         \n",
      " 0   id            76051 non-null  object        \n",
      " 1   user_id       76051 non-null  object        \n",
      " 2   message_date  76051 non-null  datetime64[ns]\n",
      "dtypes: datetime64[ns](1), object(2)\n",
      "memory usage: 1.7+ MB\n"
     ]
    }
   ],
   "source": [
    "#Convert user_id to object data type\n",
    "df_messages['user_id'] = df_messages['user_id'].astype('object')\n",
    "\n",
    "#Convert message_date to datetime data type\n",
    "df_messages['message_date'] = pd.to_datetime(df_messages['message_date'], format='%Y-%m-%d')\n",
    "\n",
    "#Validating conversion\n",
    "df_messages.info()"
   ]
  },
  {
   "cell_type": "markdown",
   "metadata": {
    "id": "bStkaxn40q1C"
   },
   "source": [
    "## Internet"
   ]
  },
  {
   "cell_type": "code",
   "execution_count": 15,
   "metadata": {
    "id": "e-Uz5qyn0q1C"
   },
   "outputs": [
    {
     "name": "stdout",
     "output_type": "stream",
     "text": [
      "<class 'pandas.core.frame.DataFrame'>\n",
      "RangeIndex: 104825 entries, 0 to 104824\n",
      "Data columns (total 4 columns):\n",
      " #   Column        Non-Null Count   Dtype  \n",
      "---  ------        --------------   -----  \n",
      " 0   id            104825 non-null  object \n",
      " 1   user_id       104825 non-null  int64  \n",
      " 2   session_date  104825 non-null  object \n",
      " 3   mb_used       104825 non-null  float64\n",
      "dtypes: float64(1), int64(1), object(2)\n",
      "memory usage: 3.2+ MB\n"
     ]
    }
   ],
   "source": [
    "# Print general/summary information about the internet DataFrame\n",
    "df_internet.info()"
   ]
  },
  {
   "cell_type": "code",
   "execution_count": 16,
   "metadata": {
    "id": "9r3x_XLw0q1C"
   },
   "outputs": [
    {
     "name": "stdout",
     "output_type": "stream",
     "text": [
      "             id  user_id session_date  mb_used\n",
      "62417    1285_9     1285   2018-10-12   620.95\n",
      "86462  1401_160     1401   2018-10-08     0.00\n",
      "3996   1022_407     1022   2018-12-11   116.54\n",
      "15283   1069_96     1069   2018-10-18     0.00\n",
      "18517  1082_242     1082   2018-11-09   681.40\n",
      "\n",
      "Duplicate values:  0\n"
     ]
    }
   ],
   "source": [
    "# Print a sample of data for internet traffic\n",
    "print(df_internet.sample(5))\n",
    "#Checking for duplicate values\n",
    "print()\n",
    "print('Duplicate values: ', df_internet.duplicated().sum())"
   ]
  },
  {
   "cell_type": "markdown",
   "metadata": {
    "id": "EzOG5ik30q1D"
   },
   "source": [
    "The data types of the following variables will be modified:\n",
    "- user_id: Currently int, it will be changed to object, it is not a variable with which we are going to do calculations.\n",
    "- session_date: Currently object, they will be changed to datetime data type with the appropriate format.\n",
    "\n",
    "There are no duplicate values\n",
    "\n",
    "As for calls, it is considered useful to add a column with the mb consumption rounded up and converted to integer."
   ]
  },
  {
   "cell_type": "code",
   "execution_count": 17,
   "metadata": {
    "id": "zVeanzdd0q1E"
   },
   "outputs": [
    {
     "name": "stdout",
     "output_type": "stream",
     "text": [
      "<class 'pandas.core.frame.DataFrame'>\n",
      "RangeIndex: 104825 entries, 0 to 104824\n",
      "Data columns (total 4 columns):\n",
      " #   Column        Non-Null Count   Dtype         \n",
      "---  ------        --------------   -----         \n",
      " 0   id            104825 non-null  object        \n",
      " 1   user_id       104825 non-null  object        \n",
      " 2   session_date  104825 non-null  datetime64[ns]\n",
      " 3   mb_used       104825 non-null  float64       \n",
      "dtypes: datetime64[ns](1), float64(1), object(2)\n",
      "memory usage: 3.2+ MB\n"
     ]
    }
   ],
   "source": [
    "#Convert user_id to object data type\n",
    "df_internet['user_id'] = df_internet['user_id'].astype('object')\n",
    "\n",
    "#Convert session_date to datetime data type\n",
    "df_internet['session_date'] = pd.to_datetime(df_internet['session_date'], format='%Y-%m-%d')\n",
    "\n",
    "#Validating conversion\n",
    "df_internet.info()"
   ]
  },
  {
   "cell_type": "markdown",
   "metadata": {},
   "source": [
    "## Feature engineering for calls and internet"
   ]
  },
  {
   "cell_type": "code",
   "execution_count": 18,
   "metadata": {},
   "outputs": [
    {
     "name": "stdout",
     "output_type": "stream",
     "text": [
      "              id user_id  call_date  duration  duration_int\n",
      "125995  1446_111    1446 2018-12-24      3.19             4\n",
      "62205   1223_380    1223 2018-11-11      1.72             2\n",
      "11683   1050_458    1050 2018-12-04      9.34            10\n",
      "115350  1404_144    1404 2018-08-31      9.81            10\n",
      "17227   1066_335    1066 2018-10-08     21.56            22\n"
     ]
    }
   ],
   "source": [
    "#Creating new column with seconds rounded in df_calls\n",
    "df_calls['duration_int'] = np.ceil(df_calls['duration']).astype('int')\n",
    "#Validating new column\n",
    "print(df_calls.sample(5))"
   ]
  },
  {
   "cell_type": "code",
   "execution_count": 19,
   "metadata": {
    "id": "ESiYPIEK0q1E"
   },
   "outputs": [
    {
     "name": "stdout",
     "output_type": "stream",
     "text": [
      "             id user_id session_date  mb_used  mb_used_int\n",
      "39264   1176_85    1176   2018-10-21   495.69          496\n",
      "10953  1054_492    1054   2018-12-14   366.99          367\n",
      "60934  1277_237    1277   2018-09-06   299.27          300\n",
      "75994   1358_75    1358   2018-07-11   145.50          146\n",
      "89131   1411_25    1411   2018-12-15     0.00            0\n"
     ]
    }
   ],
   "source": [
    "#Creating new column with mb rounded in df_internet\n",
    "df_internet['mb_used_int'] = np.ceil(df_internet['mb_used']).astype('int')\n",
    "#Validating new column\n",
    "print(df_internet.sample(5))"
   ]
  },
  {
   "cell_type": "markdown",
   "metadata": {},
   "source": [
    "# Data analysis"
   ]
  },
  {
   "cell_type": "markdown",
   "metadata": {
    "id": "3UA2cqIW0q1E"
   },
   "source": [
    "## Studying the fee conditions"
   ]
  },
  {
   "cell_type": "code",
   "execution_count": 20,
   "metadata": {
    "id": "i409op8p0q1F"
   },
   "outputs": [
    {
     "name": "stdout",
     "output_type": "stream",
     "text": [
      "SURF PLAN\n",
      "Monthly payment:  20\n",
      "INCLUDES\n",
      "Minutes:  500\n",
      "Messages:  50\n",
      "GB:  0.0146484375\n",
      "ADDITIONAL\n",
      "USD per additional minute:  0.03\n",
      "USD per message additional:  0.03\n",
      "USD per additional GB:  10\n",
      "\n",
      "ULTIMATE PLAN\n",
      "Monthly payment:  70\n",
      "INCLUDES\n",
      "Minutes:  3000\n",
      "Messages:  1000\n",
      "GB:  0.029296875\n",
      "ADDITIONAL\n",
      "USD per additional minute:  0.01\n",
      "USD per additional message:  0.01\n",
      "USD per additional GB:  7\n"
     ]
    }
   ],
   "source": [
    "# Print the conditions of the rate\n",
    "\n",
    "print('SURF PLAN')\n",
    "surf = df_plans[df_plans['plan_name'] == 'surf'] # Extracting row from surf plan\n",
    "print('Monthly payment: ', surf.iloc[0].loc['usd_monthly_fee'])\n",
    "print('INCLUDES')\n",
    "print('Minutes: ', surf.iloc[0].loc['minutes_included'])\n",
    "print('Messages: ', surf.iloc[0].loc['messages_included'])\n",
    "print('GB: ', surf.iloc[0].loc['gb_per_month_included'] / 1024)\n",
    "print('ADDITIONAL')\n",
    "print('USD per additional minute: ', surf.iloc[0].loc['usd_per_minute'])\n",
    "print('USD per message additional: ', surf.iloc[0].loc['usd_per_message'])\n",
    "print('USD per additional GB: ', surf.iloc[0].loc['usd_per_gb'])\n",
    "\n",
    "print()\n",
    "print('ULTIMATE PLAN')\n",
    "ultimate = df_plans[df_plans['plan_name'] == 'ultimate'] #Extracting row from ultimate plan\n",
    "print('Monthly payment: ', ultimate.iloc[0].loc['usd_monthly_fee'])\n",
    "print('INCLUDES')\n",
    "print( 'Minutes: ', ultimate.iloc[0].loc['minutes_included'])\n",
    "print('Messages: ', ultimate.iloc[0].loc['messages_included'])\n",
    "print('GB: ', ultimate.iloc [0].loc['gb_per_month_included']/ 1024)\n",
    "print('ADDITIONAL')\n",
    "print('USD per additional minute: ', ultimate.iloc[0].loc['usd_per_minute'])\n",
    "print('USD per additional message: ', ultimate.iloc[0].loc['usd_per_message'])\n",
    "print('USD per additional GB: ', ultimate.iloc[0].loc['usd_per_gb'])"
   ]
  },
  {
   "cell_type": "markdown",
   "metadata": {
    "id": "hMR1tP5d0q1F"
   },
   "source": [
    "## What is the number of calls made by each user per month?"
   ]
  },
  {
   "cell_type": "code",
   "execution_count": 21,
   "metadata": {
    "id": "A332cedB0q1G"
   },
   "outputs": [
    {
     "name": "stdout",
     "output_type": "stream",
     "text": [
      "               calls  call_date  duration  duration_int\n",
      "user_id month                                          \n",
      "1000    12        16         16        16            16\n",
      "1001    8         27         27        27            27\n",
      "        9         49         49        49            49\n",
      "        10        65         65        65            65\n",
      "        11        64         64        64            64\n",
      "...              ...        ...       ...           ...\n",
      "1498    12        39         39        39            39\n",
      "1499    9         41         41        41            41\n",
      "        10        53         53        53            53\n",
      "        11        45         45        45            45\n",
      "        12        65         65        65            65\n",
      "\n",
      "[2258 rows x 4 columns]\n",
      "\n",
      "Average number of calls per user per month:  60.99867139061116\n"
     ]
    }
   ],
   "source": [
    "#Creating temporary column with the month of each call\n",
    "df_calls['month'] = df_calls['call_date'].dt.month\n",
    "\n",
    "#Grouping by user_id and month columns\n",
    "calls_per_user_month = df_calls.groupby(['user_id', 'month']).count()\n",
    "\n",
    "#Renaming id column to calls, indicates the number of calls for that user in that month\n",
    "new_names = {\n",
    "  'id' : 'calls',\n",
    "}\n",
    "calls_per_user_month.rename(columns = new_names, inplace = True)\n",
    "\n",
    "#We get a dataframe grouped by user_id and month with the number of calls made\n",
    "print(calls_per_user_month)\n",
    "print()\n",
    "print(\"Average number of calls per user per month: \", calls_per_user_month['calls'].mean())"
   ]
  },
  {
   "cell_type": "markdown",
   "metadata": {},
   "source": [
    "## What is the number of minutes used by each user per month?"
   ]
  },
  {
   "cell_type": "code",
   "execution_count": 22,
   "metadata": {
    "id": "aw2cmuql0q1G"
   },
   "outputs": [
    {
     "name": "stdout",
     "output_type": "stream",
     "text": [
      "               duration  minutes  month\n",
      "user_id month                          \n",
      "1000    12       116.83      124    192\n",
      "1001    8        171.14      182    216\n",
      "        9        297.69      315    441\n",
      "        10       374.11      393    650\n",
      "        11       404.59      426    704\n",
      "...                 ...      ...    ...\n",
      "1498    12       324.77      339    468\n",
      "1499    9        330.37      346    369\n",
      "        10       363.28      385    530\n",
      "        11       288.56      308    495\n",
      "        12       468.10      496    780\n",
      "\n",
      "[2258 rows x 3 columns]\n",
      "\n",
      "Average number of minutes per user per month:  435.9375553587245\n"
     ]
    }
   ],
   "source": [
    "#Grouping by user_id and month columns\n",
    "minutes_per_user_month = df_calls.groupby(['user_id', 'month'])[df_calls.select_dtypes(include='number').columns].sum()\n",
    "\n",
    "#Renaming duration_int column to minutes, indicating the number of minutes for that user in that month\n",
    "new_names = {\n",
    "  'duration_int' : 'minutes',\n",
    "}\n",
    "minutes_per_user_month.rename(columns = new_names, inplace = True)\n",
    "\n",
    "#We get a dataframe grouped by user_id and month with the sum of the minutes used\n",
    "print(minutes_per_user_month)\n",
    "print()\n",
    "print(\"Average number of minutes per user per month: \", minutes_per_user_month['minutes'].mean())"
   ]
  },
  {
   "cell_type": "markdown",
   "metadata": {},
   "source": [
    "## What is the number of messages sent by each user per month?"
   ]
  },
  {
   "cell_type": "code",
   "execution_count": 23,
   "metadata": {
    "id": "CcQvNHn60q1G"
   },
   "outputs": [
    {
     "name": "stdout",
     "output_type": "stream",
     "text": [
      "               messages  message_date\n",
      "user_id month                        \n",
      "1000    12           11            11\n",
      "1001    8            30            30\n",
      "        9            44            44\n",
      "        10           53            53\n",
      "        11           36            36\n",
      "...                 ...           ...\n",
      "1496    9            21            21\n",
      "        10           18            18\n",
      "        11           13            13\n",
      "        12           11            11\n",
      "1497    12           50            50\n",
      "\n",
      "[1806 rows x 2 columns]\n",
      "\n",
      "Average number of messages per user per month:  42.110188261351055\n"
     ]
    }
   ],
   "source": [
    "#Creating temporary column with the month of each message\n",
    "df_messages['month'] = df_messages['message_date'].dt.month\n",
    "\n",
    "#Grouping by user_id and cmonth columns\n",
    "messages_per_user_month = df_messages.groupby(['user_id', 'month']).count()\n",
    "\n",
    "#Renaming id column to messages, indicates the number of messages for that user in that month\n",
    "new_names = {\n",
    "  'id' : 'messages',\n",
    "}\n",
    "messages_per_user_month.rename(columns = new_names, inplace = True)\n",
    "\n",
    "#We get a dataframe grouped by user_id and month with the number of messages sent\n",
    "print(messages_per_user_month)\n",
    "print()\n",
    "print(\"Average number of messages per user per month: \", messages_per_user_month['messages'].mean())"
   ]
  },
  {
   "cell_type": "markdown",
   "metadata": {},
   "source": [
    "## What is the volume of Internet traffic used by each user per month?"
   ]
  },
  {
   "cell_type": "code",
   "execution_count": 24,
   "metadata": {
    "id": "H1AqN2eG0q1H"
   },
   "outputs": [
    {
     "name": "stdout",
     "output_type": "stream",
     "text": [
      "                mb_used  mb_used_int  month\n",
      "user_id month                              \n",
      "1000    12      1901.47         1903     60\n",
      "1001    8       6919.15         6929    200\n",
      "        9      13314.82        13333    477\n",
      "        10     22330.49        22356    560\n",
      "        11     18504.30        18524    561\n",
      "...                 ...          ...    ...\n",
      "1498    12     23137.69        23160    780\n",
      "1499    9      12984.76        13004    405\n",
      "        10     19492.43        19515    610\n",
      "        11     16813.83        16834    539\n",
      "        12     22059.21        22091    780\n",
      "\n",
      "[2277 rows x 3 columns]\n",
      "\n",
      "Average number of mbs per user per month:  16882.197501097933\n"
     ]
    }
   ],
   "source": [
    "#Creating a temporary column with the month of each session\n",
    "df_internet['month'] = df_internet['session_date'].dt.month\n",
    "\n",
    "#Grouping by the user_id and cmot columns\n",
    "mbs_per_user_month = df_internet.groupby(['user_id', 'month'])[df_internet.select_dtypes(include='number').columns].sum()\n",
    "\n",
    "#We get a dataframe grouped by user_id and month with the number of messages sent\n",
    "print(mbs_per_user_month)\n",
    "print()\n",
    "print(\"Average number of mbs per user per month: \", mbs_per_user_month['mb_used'].mean())"
   ]
  },
  {
   "cell_type": "markdown",
   "metadata": {},
   "source": [
    "## Merging call, minute, message, internet and plan type data based on user_id and month"
   ]
  },
  {
   "cell_type": "code",
   "execution_count": 25,
   "metadata": {
    "id": "FW99ykyf0q1H"
   },
   "outputs": [
    {
     "name": "stdout",
     "output_type": "stream",
     "text": [
      "     user_id  month  calls  minutes  messages  mb_used      plan\n",
      "0       1000     12     16      124        11     1903  ultimate\n",
      "1       1001      8     27      182        30     6929      surf\n",
      "2       1001      9     49      315        44    13333      surf\n",
      "3       1001     10     65      393        53    22356      surf\n",
      "4       1001     11     64      426        36    18524      surf\n",
      "...      ...    ...    ...      ...       ...      ...       ...\n",
      "2288    1349     12      0        0        61    13052      surf\n",
      "2289    1361      5      0        0         2     1523      surf\n",
      "2290    1482     10      0        0         2        0  ultimate\n",
      "2291    1108     12      0        0         0      235  ultimate\n",
      "2292    1311      6      0        0         0     1501  ultimate\n",
      "\n",
      "[2293 rows x 7 columns]\n"
     ]
    }
   ],
   "source": [
    "#Merging data based on their indexes\n",
    "data_per_user = pd.concat([calls_per_user_month, \n",
    "                           minutes_per_user_month, \n",
    "                           messages_per_user_month, \n",
    "                           mbs_per_user_month], \n",
    "                          axis='columns')\n",
    "#Removing unnecessary columns\n",
    "data_per_user = data_per_user[['calls','minutes', 'messages','mb_used_int']]\n",
    "\n",
    "#Renaming column mb_used_int to mb_used, indicating the number of messages for that user in that month\n",
    "new_names = {\n",
    "  'mb_used_int' : 'mb_used',\n",
    "}\n",
    "data_per_user.rename(columns = new_names, inplace = True)\n",
    "\n",
    "#Replacing all NaNs with 0 and converting columns to int\n",
    "data_per_user = data_per_user.where(~data_per_user.isna(), 0)\n",
    "data_per_user = data_per_user.astype('int')\n",
    "\n",
    "#Converting user_id and call_month indexes to columns with reset_index, reestablishing a normal index\n",
    "data_per_user.reset_index(inplace=True)\n",
    "\n",
    "#Merging the created dataframe with each user's plan information in Left Join\n",
    "data_per_user = data_per_user.merge(df_users, on='user_id', how='left')\n",
    "#Removing unnecessary columns\n",
    "data_per_user = data_per_user[['user_id', 'month', 'calls','minutes', 'messages','mb_used', 'plan']]\n",
    "print(data_per_user)"
   ]
  },
  {
   "cell_type": "markdown",
   "metadata": {},
   "source": [
    "## What is the monthly income for each user?"
   ]
  },
  {
   "cell_type": "code",
   "execution_count": 26,
   "metadata": {
    "id": "5FGCf_c60q1I"
   },
   "outputs": [
    {
     "name": "stdout",
     "output_type": "stream",
     "text": [
      "     user_id  month  calls  minutes  messages  mb_used      plan  \\\n",
      "0       1000     12     16      124        11     1903  ultimate   \n",
      "1       1001      8     27      182        30     6929      surf   \n",
      "2       1001      9     49      315        44    13333      surf   \n",
      "3       1001     10     65      393        53    22356      surf   \n",
      "4       1001     11     64      426        36    18524      surf   \n",
      "...      ...    ...    ...      ...       ...      ...       ...   \n",
      "2288    1349     12      0        0        61    13052      surf   \n",
      "2289    1361      5      0        0         2     1523      surf   \n",
      "2290    1482     10      0        0         2        0  ultimate   \n",
      "2291    1108     12      0        0         0      235  ultimate   \n",
      "2292    1311      6      0        0         0     1501  ultimate   \n",
      "\n",
      "      income_per_month  \n",
      "0                70.00  \n",
      "1                20.00  \n",
      "2                20.00  \n",
      "3                90.09  \n",
      "4                60.00  \n",
      "...                ...  \n",
      "2288             20.33  \n",
      "2289             20.00  \n",
      "2290             70.00  \n",
      "2291             70.00  \n",
      "2292             70.00  \n",
      "\n",
      "[2293 rows x 8 columns]\n",
      "Average income per user per month - Surf:  60.79541004450095\n",
      "Average income per user per month - Ultimate:  72.33333333333333\n"
     ]
    }
   ],
   "source": [
    "# Calculate monthly income for each user\n",
    "\n",
    "#Function that calculates monthly income for a given row\n",
    "def income(row):\n",
    "    minutes = row['minutes']\n",
    "    messages = row['messages']\n",
    "    mb_used = row['mb_used']\n",
    "    plan = row['plan']\n",
    "    income = 0\n",
    "    \n",
    "    if plan == 'surf':\n",
    "        income = 20 #Adding monthly income\n",
    "        if minutes > 500:\n",
    "            income += (minutes - 500) * 0.03 #Adding 0.03 for each extra minute\n",
    "        if messages > 50:\n",
    "            income += (messages - 50) * 0.03 #Adding 0.03 for each extra message\n",
    "        if mb_used > 15360:\n",
    "            income += np.ceil(((mb_used - 15360) / 1024)) * 10 #Adding 10 for each GB exceeded, using ceil to round up\n",
    "            \n",
    "    elif plan == 'ultimate':\n",
    "        income = 70 #Agregando renta mensual\n",
    "        if minutes > 3000:\n",
    "            income += (minutes - 3000) * 0.01 #Adding 0.01 for each extra minute\n",
    "        if messages > 1000:\n",
    "            income += (messages - 1000) * 0.01 #Adding 0.01 for each extra message\n",
    "        if mb_used > 30720:\n",
    "            income += np.ceil(((mb_used - 30720) / 1024)) * 7 #Adding 7 for each GB exceeded, using ceil to round up\n",
    "    return income\n",
    "\n",
    "#Creating the new income_per_month column with the result of assigning each row to the income function\n",
    "data_per_user['income_per_month'] = data_per_user.apply(income, axis=1)\n",
    "print(data_per_user)\n",
    "print(\"Average income per user per month - Surf: \", data_per_user.query(\"plan == 'surf'\")['income_per_month'].mean())\n",
    "print(\"Average income per user per month - Ultimate: \", data_per_user.query(\"plan == 'ultimate'\")['income_per_month'].mean())\n"
   ]
  },
  {
   "cell_type": "markdown",
   "metadata": {
    "id": "-jtyHzJb0q1I"
   },
   "source": [
    "# User behavior analysis"
   ]
  },
  {
   "cell_type": "markdown",
   "metadata": {
    "id": "vtW4CJEe0q1J"
   },
   "source": [
    "## Average call duration for each plan and for each month"
   ]
  },
  {
   "cell_type": "code",
   "execution_count": 27,
   "metadata": {
    "id": "Jf5v5--k0q1J"
   },
   "outputs": [
    {
     "data": {
      "image/png": "[encoded data removed]",
      "text/plain": [
       "<Figure size 640x480 with 1 Axes>"
      ]
     },
     "metadata": {},
     "output_type": "display_data"
    },
    {
     "name": "stdout",
     "output_type": "stream",
     "text": [
      "Average call duration per user per month plan surf:  7.030712408943665\n",
      "Average call duration per user per month plan Ultimate:  7.00973786728741\n"
     ]
    }
   ],
   "source": [
    "import calendar\n",
    "\n",
    "#Function that calculates the average call duration of each customer in each month\n",
    "def avg_duration_call(row):\n",
    "    minutes = row['minutes']\n",
    "    calls = row['calls']\n",
    "    if calls > 0:\n",
    "        return minutes / calls #Divide the number of minutes used by the number of calls made\n",
    "    return 0\n",
    "\n",
    "#Creating the new column avg_duration_call with the result of assigning each row to the avg_duration_call function\n",
    "data_per_user['avg_duration_call'] = data_per_user.apply(avg_duration_call, axis=1)\n",
    "\n",
    "# Filtering data by plan and grouping by month\n",
    "surf_call_duration = data_per_user[data_per_user['plan'] == 'surf'].groupby('month')['avg_duration_call'].mean()\n",
    "ultimate_call_duration = data_per_user[data_per_user['plan'] == 'ultimate'].groupby('month')['avg_duration_call'].mean()\n",
    "\n",
    "# Defining the width of the bars and calculating the position of the bars for each data set\n",
    "bar_width = 0.35\n",
    "index = range(12)\n",
    "\n",
    "# Creating the bar chart\n",
    "plt.bar(index, surf_call_duration, bar_width, color='#70D3F2', label='Surf')\n",
    "plt.bar([i + bar_width for i in index], ultimate_call_duration, bar_width, color='#F29C85', label='Ultimate')\n",
    "\n",
    "# Axis labels and legend\n",
    "plt.xlabel('Month')\n",
    "plt.ylabel('Average call duration')\n",
    "\n",
    "# Get the month names\n",
    "month_names = ['January', 'February', 'March', 'April', 'May', 'June', 'July', 'August', 'September',\n",
    "               'October', 'November', 'December']\n",
    "\n",
    "# Rotation of the x-axis labels\n",
    "plt.xticks([i + bar_width / 2 for i in index], month_names, rotation=45)\n",
    "plt.legend()\n",
    "\n",
    "# Display the chart\n",
    "plt.tight_layout() # Adjust the layout to avoid overlaps\n",
    "plt.show()\n",
    "\n",
    "print(\"Average call duration per user per month plan surf: \", data_per_user.query(\"plan == 'surf'\")['avg_duration_call'].mean())\n",
    "print(\"Average call duration per user per month plan Ultimate: \", data_per_user.query(\"plan == 'ultimate'\")['avg_duration_call'].mean())"
   ]
  },
  {
   "cell_type": "markdown",
   "metadata": {},
   "source": [
    "## Comparison of the number of monthly minutes needed by users of each plan"
   ]
  },
  {
   "cell_type": "code",
   "execution_count": 28,
   "metadata": {
    "id": "QoLqW1S_0q1J"
   },
   "outputs": [
    {
     "data": {
      "image/png": "[encoded data removed]",
      "text/plain": [
       "<Figure size 640x480 with 1 Axes>"
      ]
     },
     "metadata": {},
     "output_type": "display_data"
    }
   ],
   "source": [
    "# Filtering data by plan and grouping by month\n",
    "surf_minutes = data_per_user[data_per_user['plan'] == 'surf'].groupby('month')['minutes'].mean()\n",
    "ultimate_minutes = data_per_user[data_per_user['plan'] == 'ultimate'].groupby('month')['minutes'].mean()\n",
    "\n",
    "#Creating histogram\n",
    "surf_minutes.plot(kind='hist', color='#70D3F2', bins=6)\n",
    "ultimate_minutes.plot(kind='hist', bins=6, alpha=0.8, color='#F29C85')\n",
    "plt.legend(['Surf', 'Ultimate'])\n",
    "plt.show()"
   ]
  },
  {
   "cell_type": "markdown",
   "metadata": {},
   "source": [
    "## Mean and variance of monthly call duration"
   ]
  },
  {
   "cell_type": "code",
   "execution_count": 29,
   "metadata": {
    "id": "oSndbAnt0q1K"
   },
   "outputs": [
    {
     "name": "stdout",
     "output_type": "stream",
     "text": [
      "Monthly call duration\n",
      "Surf plan mean:  7.030712408943665\n",
      "Ultimate plan mean:  7.00973786728741\n",
      "Surf plan variance:  2.1007274134149987\n",
      "Ultimate plan variance:  1.3877081848847723\n",
      "Surf plan standard deviation:  1.4493886343610531\n",
      "Standard deviation of Ultimate:  1.1780102651865019\n"
     ]
    }
   ],
   "source": [
    "# Calculating the mean and variance of monthly call duration.\n",
    "duration_surf = data_per_user.query(\"plan == 'surf'\") #Filtering by surf plan\n",
    "duration_ultimate = data_per_user.query(\"plan == 'ultimate'\") #Filtering by ultimate plan\n",
    "\n",
    "print(\"Monthly call duration\")\n",
    "print(\"Surf plan mean: \", duration_surf['avg_duration_call'].mean())\n",
    "print(\"Ultimate plan mean: \", duration_ultimate['avg_duration_call'].mean())\n",
    "print(\"Surf plan variance: \", np.var(duration_surf['avg_duration_call']))\n",
    "print(\"Ultimate plan variance: \", np.var(duration_ultimate['avg_duration_call']))\n",
    "print(\"Surf plan standard deviation: \", np.sqrt(np.var(duration_surf['avg_duration_call'])))\n",
    "print(\"Standard deviation of Ultimate: \", np.sqrt(np.var(duration_ultimate['avg_duration_call'])))"
   ]
  },
  {
   "cell_type": "markdown",
   "metadata": {},
   "source": [
    "## Monthly distribution of calls"
   ]
  },
  {
   "cell_type": "code",
   "execution_count": 30,
   "metadata": {
    "id": "nZzoRUKc0q1K"
   },
   "outputs": [
    {
     "data": {
      "text/plain": [
       "<Axes: xlabel='avg_duration_call', ylabel='plan'>"
      ]
     },
     "execution_count": 30,
     "metadata": {},
     "output_type": "execute_result"
    },
    {
     "data": {
      "image/png": "[encoded data removed]",
      "text/plain": [
       "<Figure size 640x480 with 1 Axes>"
      ]
     },
     "metadata": {},
     "output_type": "display_data"
    }
   ],
   "source": [
    "# Draw a box plot to visualize the distribution of monthly call duration\n",
    "pal = {\"surf\": \"#70D3F2\", \"ultimate\": \"#F29C85\"}\n",
    "sns.boxplot(x = data_per_user['avg_duration_call'], y = data_per_user['plan'], order=['surf','ultimate'], palette=pal)"
   ]
  },
  {
   "cell_type": "markdown",
   "metadata": {},
   "source": [
    "### Call Behavior Conclusions"
   ]
  },
  {
   "cell_type": "markdown",
   "metadata": {
    "id": "r627zBO50q1K"
   },
   "source": [
    "The number of calls made by customers gradually increases as the year progresses, the average call duration remains practically the same in both plans throughout the year with an average of between 6 and 7 minutes.\n",
    "\n",
    "According to the histogram, the number of minutes used in both plans is very similar, users of both plans tend to stay below 500 minutes used, the limit of the Surf plan.\n",
    "\n",
    "There is no relevant difference in the behavior in the duration of calls with respect to the plan used by customers, users present an average call duration of 7 minutes and a variation of between 1 and 2 minutes between customers for both plans.\n",
    "\n",
    "Regarding the dispersion of the data in both plans, we see some isolated records with calls of an average of more than 12 minutes only in the Surf plan."
   ]
  },
  {
   "cell_type": "markdown",
   "metadata": {
    "id": "8idKy8Wh0q1L"
   },
   "source": [
    "## Comparison of the number of messages that users of each plan tend to send each month"
   ]
  },
  {
   "cell_type": "code",
   "execution_count": 31,
   "metadata": {
    "id": "NXLxiTit0q1L"
   },
   "outputs": [
    {
     "data": {
      "image/png": "[encoded data removed]",
      "text/plain": [
       "<Figure size 640x480 with 1 Axes>"
      ]
     },
     "metadata": {},
     "output_type": "display_data"
    }
   ],
   "source": [
    "# Filtering messages by plan and grouping by month\n",
    "surf_messages = data_per_user[data_per_user['plan'] == 'surf'].groupby('month')['messages'].mean()\n",
    "ultimate_messages = data_per_user[data_per_user['plan'] == 'ultimate'].groupby('month')['messages'].mean()\n",
    "\n",
    "# Defining the bar width and calculating the bar position for each data set\n",
    "bar_width = 0.35\n",
    "index = range(12)\n",
    "\n",
    "# Creating the bar chart\n",
    "plt.bar(index, surf_messages, bar_width, label='Surf', color='#70D3F2')\n",
    "plt.bar([i + bar_width for i in index], ultimate_messages, bar_width, label='Ultimate', color='#F29C85')\n",
    "\n",
    "# Axis labels and legend\n",
    "plt.xlabel('Month')\n",
    "plt.ylabel('Average messages')\n",
    "\n",
    "# Rotation of the x-axis labels\n",
    "plt.xticks([i + bar_width / 2 for i in index], month_names, rotation=45)\n",
    "plt.legend()\n",
    "\n",
    "# Display the chart\n",
    "plt.tight_layout() # Adjust the layout to avoid overlaps\n",
    "plt.show()"
   ]
  },
  {
   "cell_type": "markdown",
   "metadata": {},
   "source": [
    "## Comparison of the number of monthly messages required by users of each plan"
   ]
  },
  {
   "cell_type": "code",
   "execution_count": 32,
   "metadata": {
    "id": "GRI_R7xF0q1L"
   },
   "outputs": [
    {
     "data": {
      "image/png": "[encoded data removed]",
      "text/plain": [
       "<Figure size 640x480 with 1 Axes>"
      ]
     },
     "metadata": {},
     "output_type": "display_data"
    }
   ],
   "source": [
    "#Creating histogram\n",
    "surf_messages.plot(kind='hist', bins=6, color=\"#70D3F2\")\n",
    "ultimate_messages.plot(kind='hist', bins=6, alpha=0.8, color=\"#F29C85\")\n",
    "plt.legend(['Surf', 'Ultimate'])\n",
    "plt.show()"
   ]
  },
  {
   "cell_type": "markdown",
   "metadata": {},
   "source": [
    "## Mean and variance of the number of messages"
   ]
  },
  {
   "cell_type": "code",
   "execution_count": 33,
   "metadata": {
    "id": "dtFwCGAp0q1M"
   },
   "outputs": [
    {
     "name": "stdout",
     "output_type": "stream",
     "text": [
      "Monthly number of messages\n",
      "Surf plan mean:  31.15956770502225\n",
      "Ultimate plan mean:  37.55138888888889\n",
      "Surf plan variance:  1126.0082317266633\n",
      "Ultimate plan variance:  1207.0779147376504\n",
      "Surf plan standard deviation:  33.55604612773477\n",
      "Standard deviation of the Ultimate plan:  34.74302685054442\n"
     ]
    },
    {
     "data": {
      "text/plain": [
       "<Axes: xlabel='messages', ylabel='plan'>"
      ]
     },
     "execution_count": 33,
     "metadata": {},
     "output_type": "execute_result"
    },
    {
     "data": {
      "image/png": "[encoded data removed]",
      "text/plain": [
       "<Figure size 640x480 with 1 Axes>"
      ]
     },
     "metadata": {},
     "output_type": "display_data"
    }
   ],
   "source": [
    "# Calculating the mean and variance of the number of messages\n",
    "messages_surf = data_per_user.query(\"plan == 'surf'\") #Filtering by surf plan\n",
    "messages_ultimate = data_per_user.query(\"plan == 'ultimate'\") #Filtering by ultimate plan\n",
    "\n",
    "print(\"Monthly number of messages\")\n",
    "print(\"Surf plan mean: \", messages_surf['messages'].mean())\n",
    "print(\"Ultimate plan mean: \", messages_ultimate['messages'].mean())\n",
    "print(\"Surf plan variance: \", np.var(messages_surf['messages']))\n",
    "print(\"Ultimate plan variance: \", np.var(messages_ultimate['messages']))\n",
    "print(\"Surf plan standard deviation: \", np.sqrt(np.var(messages_surf['messages'])))\n",
    "print(\"Standard deviation of the Ultimate plan: \", np.sqrt(np.var(messages_ultimate['messages'])))\n",
    "\n",
    "# Boxplot to visualize the distribution of the number of messages sent per month\n",
    "sns.boxplot(x = data_per_user['messages'], y = data_per_user['plan'],order=['surf','ultimate'], palette=pal)"
   ]
  },
  {
   "cell_type": "markdown",
   "metadata": {},
   "source": [
    "### Behavioral Conclusions in Messages"
   ]
  },
  {
   "cell_type": "markdown",
   "metadata": {
    "id": "390SSL480q1M"
   },
   "source": [
    "As with calls, the number of messages sent by customers gradually increases as the year progresses\n",
    "\n",
    "According to the histogram, there is a variation between the number of messages sent by each plan, users of the Ultimate plan mostly concentrate between 35 and 40 messages while for the Surf plan the number of messages usually fluctuates between 25 and 35 messages\n",
    "\n",
    "By calculating the average number of messages, we find what was already predicted in the histogram, the average number of messages sent by the Ultimate plan (37) is greater than the average number sent by Surf plan customers (31).\n",
    "The standard deviation in both plans is very similar (around 34), very similar to the average of both plans, which suggests a high dispersion of the data.\n",
    "\n",
    "The box and whisker diagrams show a high dispersion of the data, the number of messages sent by customers of both plans, mainly the Surf plan, varies greatly from customer to customer."
   ]
  },
  {
   "cell_type": "markdown",
   "metadata": {
    "id": "42YSypXz0q1M"
   },
   "source": [
    "## Comparison of the amount of Internet traffic consumed by users per plan"
   ]
  },
  {
   "cell_type": "code",
   "execution_count": 34,
   "metadata": {
    "id": "lSuKPtjh0q1M"
   },
   "outputs": [
    {
     "data": {
      "image/png": "[encoded data removed]",
      "text/plain": [
       "<Figure size 640x480 with 1 Axes>"
      ]
     },
     "metadata": {},
     "output_type": "display_data"
    }
   ],
   "source": [
    "#Creating new column to present data by Gb\n",
    "data_per_user['gb_used'] = data_per_user['mb_used'] / 1024\n",
    "\n",
    "# Filtering data by plan and grouping by month\n",
    "surf_gb_consumption = data_per_user[data_per_user['plan'] == 'surf'].groupby('month')['gb_used'].mean()\n",
    "ultimate_gb_consumption = data_per_user[data_per_user['plan'] == 'ultimate'].groupby('month')['gb_used'].mean()\n",
    "\n",
    "# Defining the width of the bars and calculating the position of the bars for each data set\n",
    "bar_width = 0.35\n",
    "index = range(12)\n",
    "\n",
    "# Creating the bar chart\n",
    "plt.bar(index, surf_gb_consumption, bar_width, label='Surf', color='#70D3F2')\n",
    "plt.bar([i + bar_width for i in index], ultimate_gb_consumption, bar_width, label='Ultimate', color='#F29C85')\n",
    "\n",
    "# Axis labels and legend\n",
    "plt.xlabel('Month')\n",
    "plt.ylabel('Average GB used')\n",
    "\n",
    "# Rotation of x-axis labels\n",
    "plt.xticks([i + bar_width / 2 for i in index], month_names, rotation=45)\n",
    "plt.legend()\n",
    "\n",
    "# Display the chart\n",
    "plt.tight_layout() # Adjust the layout to avoid overlaps\n",
    "plt.show()"
   ]
  },
  {
   "cell_type": "markdown",
   "metadata": {},
   "source": [
    "## Comparison of the number of monthly GB needed by users of each plan"
   ]
  },
  {
   "cell_type": "code",
   "execution_count": 35,
   "metadata": {
    "id": "wnh8jYXi0q1N"
   },
   "outputs": [
    {
     "data": {
      "image/png": "[encoded data removed]",
      "text/plain": [
       "<Figure size 640x480 with 1 Axes>"
      ]
     },
     "metadata": {},
     "output_type": "display_data"
    }
   ],
   "source": [
    "#Creating histogram\n",
    "surf_gb_consumption.plot(kind='hist', bins=6, color=\"#70D3F2\")\n",
    "ultimate_gb_consumption.plot(kind='hist', bins=6, alpha=0.8, color=\"#F29C85\")\n",
    "plt.legend(['Surf', 'Ultimate'])\n",
    "plt.show()"
   ]
  },
  {
   "cell_type": "markdown",
   "metadata": {},
   "source": [
    "## Mean and variance of the amount of Mb used"
   ]
  },
  {
   "cell_type": "code",
   "execution_count": 36,
   "metadata": {
    "id": "5VlyJ9ry0q1N"
   },
   "outputs": [
    {
     "name": "stdout",
     "output_type": "stream",
     "text": [
      "Monthly amount of Gb used\n",
      "Surf plan mean:  16.189214106206293\n",
      "Ultimate plan mean:  16.830706108940973\n",
      "Surf plan variance:  61.32384794273391\n",
      "Ultimate plan variance:  58.82236217825319\n",
      "Surf plan standard deviation:  7.830954472012586\n",
      "Standard deviation of the Ultimate plan:  7.669573793781059\n"
     ]
    },
    {
     "data": {
      "text/plain": [
       "<Axes: xlabel='gb_used', ylabel='plan'>"
      ]
     },
     "execution_count": 36,
     "metadata": {},
     "output_type": "execute_result"
    },
    {
     "data": {
      "image/png": "[encoded data removed]",
      "text/plain": [
       "<Figure size 640x480 with 1 Axes>"
      ]
     },
     "metadata": {},
     "output_type": "display_data"
    }
   ],
   "source": [
    "# Calculating the mean and variance of the amount of Mb used\n",
    "gb_used_surf = data_per_user.query(\"plan == 'surf'\") #Filtering by surf plan\n",
    "gb_used_ultimate = data_per_user.query(\"plan == 'ultimate'\") #Filtering by ultimate plan\n",
    "\n",
    "print(\"Monthly amount of Gb used\")\n",
    "print(\"Surf plan mean: \", gb_used_surf['gb_used'].mean())\n",
    "print(\"Ultimate plan mean: \", gb_used_ultimate['gb_used'].mean())\n",
    "print(\"Surf plan variance: \", np.var(gb_used_surf['gb_used']))\n",
    "print(\"Ultimate plan variance: \", np.var(gb_used_ultimate['gb_used']))\n",
    "print(\"Surf plan standard deviation: \", np.sqrt(np.var(gb_used_surf['gb_used'])))\n",
    "print(\"Standard deviation of the Ultimate plan: \", np.sqrt(np.var(gb_used_ultimate['gb_used'])))\n",
    "\n",
    "# Boxplot to visualize the distribution of the amount of GB used per month\n",
    "sns.boxplot(x = data_per_user['gb_used'], y = data_per_user['plan'],order=['surf','ultimate'], palette=pal)"
   ]
  },
  {
   "cell_type": "markdown",
   "metadata": {},
   "source": [
    "### Conclusions on Internet behavior"
   ]
  },
  {
   "cell_type": "markdown",
   "metadata": {
    "id": "UN9zwuMP0q1N"
   },
   "source": [
    "Internet consumption gradually increases as the year progresses. Many Surf plan users tend to exceed the Gb included in their plan in the second half of the year.\n",
    "\n",
    "According to the histogram, there is a slight variation between the amount of GB used by each plan, Ultimate plan users are mostly concentrated between 15 and 18 GB while for the Surf plan the amount usually ranges between 12 and 17 Gb.\n",
    "\n",
    "Both plans present an average of 16 Gb of consumption by their users, the data dispersion is slightly high, with a standard deviation of 8 Gb for both plans.\n",
    "\n",
    "The box and whisker diagrams show customers with atypical internet consumption values ​​in the Surf plan."
   ]
  },
  {
   "cell_type": "markdown",
   "metadata": {
    "id": "tCijq3260q1N"
   },
   "source": [
    "## Average revenue per plan"
   ]
  },
  {
   "cell_type": "code",
   "execution_count": 37,
   "metadata": {
    "id": "tz-dq_V00q1O"
   },
   "outputs": [
    {
     "data": {
      "image/png": "[encoded data removed]",
      "text/plain": [
       "<Figure size 640x480 with 1 Axes>"
      ]
     },
     "metadata": {},
     "output_type": "display_data"
    }
   ],
   "source": [
    "# Filtering data by plan and grouping by month\n",
    "surf_income = data_per_user[data_per_user['plan'] == 'surf'].groupby('month')['income_per_month'].mean()\n",
    "ultimate_income = data_per_user[data_per_user['plan'] == 'ultimate'].groupby('month')['income_per_month'].mean()\n",
    "\n",
    "# Defining the bar width and calculating the bar position for each data set\n",
    "bar_width = 0.35\n",
    "index = range(12)\n",
    "\n",
    "# Creating the bar chart\n",
    "plt.bar(index, surf_income, bar_width, label='Surf', color='#70D3F2')\n",
    "plt.bar([i + bar_width for i in index], ultimate_income, bar_width, label='Ultimate', color='#F29C85')\n",
    "\n",
    "# Axis labels and legend\n",
    "plt.xlabel('Month')\n",
    "plt.ylabel('Average revenue per month')\n",
    "\n",
    "# Rotation of x-axis labels\n",
    "plt.xticks([i + bar_width / 2 for i in index], month_names, rotation=45)\n",
    "plt.legend()\n",
    "\n",
    "# Display the chart\n",
    "plt.tight_layout() # Adjust the layout to avoid overlaps\n",
    "plt.show()"
   ]
  },
  {
   "cell_type": "code",
   "execution_count": 38,
   "metadata": {
    "id": "0Y1v8ZUz0q1P"
   },
   "outputs": [
    {
     "data": {
      "image/png": "[encoded data removed]",
      "text/plain": [
       "<Figure size 640x480 with 1 Axes>"
      ]
     },
     "metadata": {},
     "output_type": "display_data"
    }
   ],
   "source": [
    "#Creating histogram\n",
    "surf_income.plot(kind='hist', bins=6, color=\"#70D3F2\")\n",
    "ultimate_income.plot(kind='hist', bins=2, alpha=0.8, color=\"#F29C85\")\n",
    "plt.legend(['Surf', 'Ultimate'])\n",
    "plt.show()"
   ]
  },
  {
   "cell_type": "markdown",
   "metadata": {},
   "source": [
    "## Mean and variance of monthly income"
   ]
  },
  {
   "cell_type": "code",
   "execution_count": 39,
   "metadata": {
    "id": "bYmwxyVh0q1P"
   },
   "outputs": [
    {
     "name": "stdout",
     "output_type": "stream",
     "text": [
      "Monthly income\n",
      "Surf plan mean:  60.79541004450095\n",
      "Ultimate plan mean:  72.33333333333333\n",
      "Surf plan variance:  3072.784872765757\n",
      "Ultimate plan variance:  132.0277777777745\n",
      "Surf plan standard deviation:  55.432705804116736\n",
      "Standard deviation of the Ultimate plan:  11.490334102095312\n"
     ]
    },
    {
     "data": {
      "text/plain": [
       "<Axes: xlabel='income_per_month', ylabel='plan'>"
      ]
     },
     "execution_count": 39,
     "metadata": {},
     "output_type": "execute_result"
    },
    {
     "data": {
      "image/png": "[encoded data removed]",
      "text/plain": [
       "<Figure size 640x480 with 1 Axes>"
      ]
     },
     "metadata": {},
     "output_type": "display_data"
    }
   ],
   "source": [
    "# Calculating the mean and variance of monthly income\n",
    "income_surf = data_per_user.query(\"plan == 'surf'\") #Filtering by surf plan\n",
    "income_ultimate = data_per_user.query(\"plan == 'ultimate'\") #Filtering by ultimate plan\n",
    "\n",
    "print(\"Monthly income\")\n",
    "print(\"Surf plan mean: \", income_surf['income_per_month'].mean())\n",
    "print(\"Ultimate plan mean: \", income_ultimate['income_per_month'].mean())\n",
    "print(\"Surf plan variance: \", np.var(income_surf['income_per_month']))\n",
    "print(\"Ultimate plan variance: \", np.var(income_ultimate['income_per_month']))\n",
    "print(\"Surf plan standard deviation: \", np.sqrt(np.var(income_surf['income_per_month'])))\n",
    "print(\"Standard deviation of the Ultimate plan: \", np.sqrt(np.var(income_ultimate['income_per_month'])))\n",
    "\n",
    "# Boxplot to visualize the distribution of monthly income\n",
    "#sns.boxplot(x = data_per_user['income_per_month'])\n",
    "sns.boxplot(x = data_per_user['income_per_month'], y = data_per_user['plan'],order=['surf','ultimate'], palette=pal)"
   ]
  },
  {
   "cell_type": "markdown",
   "metadata": {},
   "source": [
    "### Behavioral Conclusions by Income"
   ]
  },
  {
   "cell_type": "markdown",
   "metadata": {
    "id": "KAFidcXZ0q1P"
   },
   "source": [
    "The first graph suggests that many Surf plan users tend to exceed the limits included in their plan, since with the exception of January, the average Surf plan income is higher than the base rate of 20 in all months.\n",
    "\n",
    "Surf plan users' income is usually between 45 and 70, with some even exceeding the base rate of the Ultimate plan.\n",
    "\n",
    "The average income of Ultimate plan users is 72.33 and Surf plan users are 60.79\n",
    "The standard deviation of the Ultimate plan is 11.49 while Surf plan users are 55.43\n",
    "\n",
    "As expected, the data dispersion is high, especially in the Surf plan, with several customers exceeding 100 in income."
   ]
  },
  {
   "cell_type": "markdown",
   "metadata": {
    "id": "ajJ7VKeI0q1Q"
   },
   "source": [
    "## Statistical hypothesis testing"
   ]
  },
  {
   "cell_type": "code",
   "execution_count": 40,
   "metadata": {
    "id": "nFoPNlPq0q1R"
   },
   "outputs": [
    {
     "name": "stdout",
     "output_type": "stream",
     "text": [
      "p-value:  3.596177345135958e-08\n",
      "We reject the null hypothesis, revenue does differ across plans.\n"
     ]
    }
   ],
   "source": [
    "# Test the hypotheses\n",
    "\"\"\"\n",
    "    H0: Average revenue from users across plans is equal.\n",
    "    H1: Average revenue from users across plans differs.\n",
    "\"\"\"\n",
    "#Defining alpha and applying t-test\n",
    "alpha = 0.05\n",
    "results = st. ttest_ind(income_surf['income_per_month'], income_ultimate['income_per_month']) # perform a test\n",
    "\n",
    "print('p-value: ', results. pvalue) # extract the p-value\n",
    "\n",
    "if results. pvalue < alpha: # compare the p-value to the threshold\n",
    "    print(\"We reject the null hypothesis, revenue does differ across plans.\")\n",
    "else:\n",
    "    print(\"We cannot reject the null hypothesis, revenue does not differ across plans.\")"
   ]
  },
  {
   "cell_type": "code",
   "execution_count": 41,
   "metadata": {
    "id": "Cqcj7wrZ0q1S"
   },
   "outputs": [
    {
     "name": "stdout",
     "output_type": "stream",
     "text": [
      "p-value:  0.044400408636489294\n",
      "We reject the null hypothesis, income does differ between users from NY-NJ and other regions.\n"
     ]
    }
   ],
   "source": [
    "# Test the hypotheses\n",
    "\"\"\"\n",
    "    H0: Average revenue from users in the NY-NJ area is the same as users in other regions\n",
    "    H1: Average revenue from users in the NY-NJ area differs from users in other regions.\n",
    "\"\"\"\n",
    "#Filtering\n",
    "ids = df_users[df_users['city'].str.contains('NY-NJ')] #Getting user ids from NY-NJ\n",
    "users_ny_nj = data_per_user.query(\"user_id in @ids.user_id\") #Filtering data_per_user with ids\n",
    "users_not_ny_nj = data_per_user.query(\"user_id not in @ids.user_id\")#Filtering data_per_user with ids from non-NY-NJ\n",
    "\n",
    "#Defining alpha and applying t-test\n",
    "alpha = 0.05\n",
    "results = st. ttest_ind(users_ny_nj['income_per_month'], users_not_ny_nj['income_per_month'])\n",
    "\n",
    "# Extracting p-value\n",
    "print('p-value: ', results. pvalue) # extracting p-value\n",
    "\n",
    "if results. pvalue < alpha: # comparing p-value to threshold\n",
    "    print(\"We reject the null hypothesis, income does differ between users from NY-NJ and other regions.\")\n",
    "else:\n",
    "    print(\"We cannot reject the null hypothesis, income does not differ between users from NY-NJ and other regions.\")"
   ]
  },
  {
   "cell_type": "markdown",
   "metadata": {
    "id": "bbTR8UQO0q1T"
   },
   "source": [
    "# **Conclusion: Optimizing Budget Allocation for Megaline's Advertising Campaigns**  \n",
    "\n",
    "The analysis of customer behavior for the **Surf** and **Ultimate** prepaid plans provides key insights for optimizing advertising budget allocation.  \n",
    "\n",
    "### **1. Customer Usage Patterns**  \n",
    "- **Calls:** Both plans show similar calling behavior, with an average **call duration of 7 minutes**, and most users staying within the **500-minute limit** of the Surf plan.  \n",
    "- **Messages:** Ultimate plan users send **slightly more messages** (37 vs. 31 on average), but overall messaging usage is low, with high variability among customers.  \n",
    "- **Internet Data:** Users of both plans consume around **16 GB per month**, with many Surf users **exceeding their data limits**, especially in the second half of the year.  \n",
    "\n",
    "### **2. Revenue Insights & Plan Performance**  \n",
    "- **Surf plan users frequently exceed their limits**, generating additional charges. Their average monthly revenue (USD 60.79) is **three times the base rate (USD 20)**, sometimes even surpassing the base rate of the Ultimate plan (USD 70).  \n",
    "- **Ultimate plan revenue is more stable**, averaging USD 72.33 with **lower variability** compared to the Surf plan.  \n",
    "- **Significant revenue differences exist by region**, particularly in the **NY-NJ area**, suggesting market-specific factors affecting revenue generation.  \n",
    "\n",
    "### **3. Advertising Strategy Recommendations**  \n",
    "- **Target High-Data Users in the Surf Plan:** Since many exceed their limits, promoting the Ultimate plan as a **cost-effective alternative** could encourage upgrades.  \n",
    "- **Regional Focus on NY-NJ:** Given revenue differences, **customized regional marketing campaigns** could enhance profitability in high-revenue areas.  \n",
    "- **Emphasize Data Over Calls & Messages:** As messaging use is low and calling patterns remain stable, promotional efforts should focus on **data-driven plans and additional benefits for heavy users**.  \n",
    "\n",
    "## **Final Recommendation**  \n",
    "Megaline should allocate **more advertising budget toward promoting data usage and plan upgrades**, especially targeting Surf plan users who frequently exceed their limits. Additionally, leveraging **regional marketing strategies** can maximize revenue potential in key areas like NY-NJ.\n",
    "\n"
   ]
  }
 ],
 "metadata": {
  "ExecuteTimeLog": [
   {
    "duration": 828,
    "start_time": "2021-11-16T09:21:11.304Z"
   },
   {
    "duration": 893,
    "start_time": "2021-11-16T09:21:17.728Z"
   },
   {
    "duration": 1150,
    "start_time": "2021-11-16T09:21:29.568Z"
   },
   {
    "duration": 3,
    "start_time": "2021-11-16T09:24:14.495Z"
   },
   {
    "duration": 120,
    "start_time": "2021-11-16T09:24:46.630Z"
   },
   {
    "duration": 3,
    "start_time": "2021-11-16T09:28:27.882Z"
   },
   {
    "duration": 4,
    "start_time": "2021-11-16T09:29:54.281Z"
   },
   {
    "duration": 3,
    "start_time": "2021-11-16T09:30:45.936Z"
   },
   {
    "duration": 4,
    "start_time": "2021-11-16T09:31:06.300Z"
   },
   {
    "duration": 113,
    "start_time": "2021-11-16T09:31:37.208Z"
   },
   {
    "duration": 143,
    "start_time": "2021-11-16T09:31:48.656Z"
   },
   {
    "duration": 98,
    "start_time": "2021-11-16T09:31:55.678Z"
   },
   {
    "duration": 3,
    "start_time": "2021-11-16T09:32:08.535Z"
   },
   {
    "duration": 111,
    "start_time": "2021-11-16T09:32:10.120Z"
   },
   {
    "duration": 3,
    "start_time": "2021-11-16T09:32:15.732Z"
   },
   {
    "duration": 4,
    "start_time": "2021-11-16T09:32:29.423Z"
   },
   {
    "duration": 3,
    "start_time": "2021-11-16T10:03:03.074Z"
   },
   {
    "duration": 3,
    "start_time": "2021-11-16T10:10:01.288Z"
   },
   {
    "duration": 3,
    "start_time": "2021-11-16T10:10:46.923Z"
   },
   {
    "duration": 121,
    "start_time": "2021-11-16T10:37:46.494Z"
   },
   {
    "duration": 125,
    "start_time": "2021-11-16T10:38:20.632Z"
   },
   {
    "duration": 112,
    "start_time": "2021-11-16T10:46:53.001Z"
   },
   {
    "duration": 110,
    "start_time": "2021-11-16T10:48:25.775Z"
   },
   {
    "duration": 3,
    "start_time": "2021-11-16T10:50:18.720Z"
   },
   {
    "duration": 4,
    "start_time": "2021-11-16T10:50:37.649Z"
   },
   {
    "duration": 2,
    "start_time": "2021-11-16T10:50:51.884Z"
   },
   {
    "duration": 3,
    "start_time": "2021-11-16T10:51:56.237Z"
   },
   {
    "duration": 101,
    "start_time": "2021-11-16T10:53:13.791Z"
   },
   {
    "duration": 3,
    "start_time": "2021-11-16T10:55:59.186Z"
   },
   {
    "duration": 3,
    "start_time": "2021-11-16T10:56:10.751Z"
   },
   {
    "duration": 3,
    "start_time": "2021-11-16T10:56:49.038Z"
   },
   {
    "duration": 3,
    "start_time": "2021-11-16T10:56:49.174Z"
   },
   {
    "duration": 4,
    "start_time": "2021-11-16T10:56:49.414Z"
   },
   {
    "duration": 3,
    "start_time": "2021-11-16T10:56:49.680Z"
   },
   {
    "duration": 3,
    "start_time": "2021-11-16T10:56:50.370Z"
   },
   {
    "duration": 114,
    "start_time": "2021-11-16T10:59:34.518Z"
   },
   {
    "duration": 3,
    "start_time": "2021-11-16T11:01:41.201Z"
   },
   {
    "duration": 116,
    "start_time": "2021-11-16T11:01:48.754Z"
   },
   {
    "duration": 3,
    "start_time": "2021-11-16T11:02:16.685Z"
   },
   {
    "duration": 3,
    "start_time": "2021-11-16T11:02:19.479Z"
   },
   {
    "duration": 3,
    "start_time": "2021-11-16T11:02:47.067Z"
   },
   {
    "duration": 3,
    "start_time": "2021-11-16T11:02:49.353Z"
   },
   {
    "duration": 3,
    "start_time": "2021-11-16T11:03:07.835Z"
   },
   {
    "duration": 3,
    "start_time": "2021-11-16T11:03:07.953Z"
   },
   {
    "duration": 112,
    "start_time": "2021-11-16T11:07:52.072Z"
   },
   {
    "duration": 187,
    "start_time": "2021-11-16T11:09:23.468Z"
   },
   {
    "duration": 4,
    "start_time": "2021-11-16T11:10:01.455Z"
   },
   {
    "duration": 3,
    "start_time": "2021-11-16T11:10:05.069Z"
   },
   {
    "duration": 4,
    "start_time": "2021-11-16T11:10:13.376Z"
   },
   {
    "duration": 3,
    "start_time": "2021-11-16T11:10:14.434Z"
   },
   {
    "duration": 3,
    "start_time": "2021-11-16T11:10:22.853Z"
   },
   {
    "duration": 4,
    "start_time": "2021-11-16T11:27:29.279Z"
   },
   {
    "duration": 4,
    "start_time": "2021-11-16T11:29:08.919Z"
   },
   {
    "duration": 118,
    "start_time": "2021-11-16T11:29:46.703Z"
   },
   {
    "duration": 437,
    "start_time": "2021-11-16T11:36:02.181Z"
   },
   {
    "duration": 157,
    "start_time": "2021-11-16T11:36:14.388Z"
   },
   {
    "duration": 207,
    "start_time": "2021-11-16T11:47:15.898Z"
   },
   {
    "duration": 3,
    "start_time": "2021-11-16T11:53:52.092Z"
   },
   {
    "duration": 3,
    "start_time": "2021-11-16T11:53:52.236Z"
   },
   {
    "duration": 3,
    "start_time": "2021-11-16T11:59:12.005Z"
   },
   {
    "duration": 112,
    "start_time": "2021-11-16T12:00:33.446Z"
   },
   {
    "duration": 3,
    "start_time": "2021-11-16T12:02:14.453Z"
   },
   {
    "duration": 3,
    "start_time": "2021-11-16T12:02:39.512Z"
   },
   {
    "duration": 106,
    "start_time": "2021-11-16T12:03:03.460Z"
   },
   {
    "duration": 3,
    "start_time": "2021-11-17T20:37:21.139Z"
   },
   {
    "duration": 3,
    "start_time": "2021-11-17T20:37:22.229Z"
   },
   {
    "duration": 3,
    "start_time": "2021-11-17T20:38:38.806Z"
   },
   {
    "duration": 3,
    "start_time": "2021-11-17T20:38:41.958Z"
   },
   {
    "duration": 3,
    "start_time": "2021-11-17T20:43:46.551Z"
   },
   {
    "duration": 4,
    "start_time": "2021-11-17T20:58:21.835Z"
   },
   {
    "duration": 3,
    "start_time": "2021-11-17T20:59:21.872Z"
   },
   {
    "duration": 4,
    "start_time": "2021-11-17T20:59:45.352Z"
   },
   {
    "duration": 4,
    "start_time": "2021-11-17T20:59:49.646Z"
   },
   {
    "duration": 159,
    "start_time": "2021-11-17T21:02:26.949Z"
   },
   {
    "duration": 3,
    "start_time": "2021-11-17T21:03:53.461Z"
   },
   {
    "duration": 3,
    "start_time": "2021-11-17T21:03:53.694Z"
   },
   {
    "duration": 3,
    "start_time": "2021-11-17T21:05:28.145Z"
   },
   {
    "duration": 116,
    "start_time": "2021-11-17T21:05:57.787Z"
   },
   {
    "duration": 3,
    "start_time": "2021-11-17T21:06:37.993Z"
   },
   {
    "duration": 3,
    "start_time": "2021-11-17T21:06:38.261Z"
   },
   {
    "duration": 3,
    "start_time": "2021-11-17T21:11:54.358Z"
   },
   {
    "duration": 3,
    "start_time": "2021-11-17T21:12:43.846Z"
   },
   {
    "duration": 4,
    "start_time": "2021-11-17T21:13:08.773Z"
   },
   {
    "duration": 3,
    "start_time": "2021-11-17T21:14:44.441Z"
   },
   {
    "duration": 3,
    "start_time": "2021-11-17T21:15:42.059Z"
   },
   {
    "duration": 4,
    "start_time": "2021-11-17T21:15:51.995Z"
   },
   {
    "duration": 3,
    "start_time": "2021-11-17T21:15:53.923Z"
   },
   {
    "duration": 3,
    "start_time": "2021-11-17T21:15:55.282Z"
   },
   {
    "duration": 3,
    "start_time": "2021-11-17T21:16:28.492Z"
   },
   {
    "duration": 3,
    "start_time": "2021-11-17T21:16:32.603Z"
   },
   {
    "duration": 3,
    "start_time": "2021-11-17T21:17:06.941Z"
   },
   {
    "duration": 98,
    "start_time": "2021-11-17T21:18:05.733Z"
   },
   {
    "duration": 4,
    "start_time": "2021-11-17T21:21:35.255Z"
   },
   {
    "duration": 3,
    "start_time": "2021-11-17T21:21:37.804Z"
   },
   {
    "duration": 4,
    "start_time": "2021-11-17T21:23:06.071Z"
   },
   {
    "duration": 3,
    "start_time": "2021-11-17T21:23:24.799Z"
   },
   {
    "duration": 3,
    "start_time": "2021-11-17T21:23:32.591Z"
   },
   {
    "duration": 98,
    "start_time": "2021-11-17T21:28:31.559Z"
   },
   {
    "duration": 3,
    "start_time": "2021-11-17T21:28:45.448Z"
   },
   {
    "duration": 3,
    "start_time": "2021-11-17T21:29:17.303Z"
   },
   {
    "duration": 3,
    "start_time": "2021-11-17T21:29:29.617Z"
   },
   {
    "duration": 3,
    "start_time": "2021-11-17T21:29:32.681Z"
   },
   {
    "duration": 3,
    "start_time": "2021-11-17T21:36:11.474Z"
   },
   {
    "duration": 3,
    "start_time": "2021-11-17T21:36:14.791Z"
   },
   {
    "duration": 3,
    "start_time": "2021-11-17T21:36:53.943Z"
   },
   {
    "duration": 3,
    "start_time": "2021-11-17T21:36:56.165Z"
   },
   {
    "duration": 4,
    "start_time": "2021-11-17T21:37:16.590Z"
   },
   {
    "duration": 3,
    "start_time": "2021-11-17T21:37:22.702Z"
   },
   {
    "duration": 4,
    "start_time": "2021-11-17T21:38:03.479Z"
   },
   {
    "duration": 3,
    "start_time": "2021-11-17T21:38:08.601Z"
   },
   {
    "duration": 3,
    "start_time": "2021-11-17T21:38:12.928Z"
   },
   {
    "duration": 3,
    "start_time": "2021-11-17T21:38:48.896Z"
   },
   {
    "duration": 2,
    "start_time": "2021-11-17T21:38:49.171Z"
   },
   {
    "duration": 4,
    "start_time": "2021-11-17T21:39:57.889Z"
   },
   {
    "duration": 3,
    "start_time": "2021-11-17T21:39:58.057Z"
   },
   {
    "duration": 3,
    "start_time": "2021-11-17T21:41:20.108Z"
   },
   {
    "duration": 3,
    "start_time": "2021-11-17T21:41:20.629Z"
   },
   {
    "duration": 3,
    "start_time": "2021-11-17T21:42:49.136Z"
   },
   {
    "duration": 3,
    "start_time": "2021-11-17T21:43:15.137Z"
   },
   {
    "duration": 4,
    "start_time": "2021-11-17T21:43:16.766Z"
   },
   {
    "duration": 4,
    "start_time": "2021-11-17T21:43:31.711Z"
   },
   {
    "duration": 3,
    "start_time": "2021-11-17T21:43:36.312Z"
   },
   {
    "duration": 4,
    "start_time": "2021-11-17T21:45:08.825Z"
   },
   {
    "duration": 4,
    "start_time": "2021-11-17T21:45:10.119Z"
   },
   {
    "duration": 4,
    "start_time": "2021-11-17T21:45:13.748Z"
   },
   {
    "duration": 3,
    "start_time": "2021-11-17T21:45:22.219Z"
   },
   {
    "duration": 3,
    "start_time": "2021-11-17T21:45:33.412Z"
   },
   {
    "duration": 2,
    "start_time": "2021-11-17T21:46:01.885Z"
   },
   {
    "duration": 3,
    "start_time": "2021-11-17T21:46:03.628Z"
   },
   {
    "duration": 107,
    "start_time": "2021-11-17T21:47:32.512Z"
   },
   {
    "duration": 103,
    "start_time": "2021-11-17T21:50:36.243Z"
   },
   {
    "duration": 3,
    "start_time": "2021-11-18T06:28:31.440Z"
   },
   {
    "duration": 3,
    "start_time": "2021-11-18T06:29:00.168Z"
   },
   {
    "duration": 3,
    "start_time": "2021-11-18T06:31:27.008Z"
   },
   {
    "duration": 2,
    "start_time": "2021-11-18T06:35:34.288Z"
   },
   {
    "duration": 2,
    "start_time": "2021-11-18T06:38:04.527Z"
   }
  ],
  "colab": {
   "provenance": []
  },
  "kernelspec": {
   "display_name": "Python 3 (ipykernel)",
   "language": "python",
   "name": "python3"
  },
  "language_info": {
   "codemirror_mode": {
    "name": "ipython",
    "version": 3
   },
   "file_extension": ".py",
   "mimetype": "text/x-python",
   "name": "python",
   "nbconvert_exporter": "python",
   "pygments_lexer": "ipython3",
   "version": "3.11.5"
  },
  "toc": {
   "base_numbering": 1,
   "nav_menu": {},
   "number_sections": true,
   "sideBar": true,
   "skip_h1_title": false,
   "title_cell": "Table of Contents",
   "title_sidebar": "Contents",
   "toc_cell": false,
   "toc_position": {
    "height": "calc(100% - 180px)",
    "left": "10px",
    "top": "150px",
    "width": "165px"
   },
   "toc_section_display": true,
   "toc_window_display": false
  }
 },
 "nbformat": 4,
 "nbformat_minor": 4
}
